{
 "cells": [
  {
   "cell_type": "code",
   "execution_count": 3,
   "metadata": {},
   "outputs": [],
   "source": [
    "import numpy as np\n",
    "import gym\n",
    "from scipy.linalg import hadamard\n",
    "import matplotlib.pyplot as plt\n",
    "import sklearn.preprocessing\n",
    "from matplotlib import animation\n",
    "from scipy.optimize import linprog\n",
    "\n",
    "\n",
    "class ESMethods:\n",
    "    def __init__(self, envName, stateDim, actionDim, actionIsDiscrete):\n",
    "        self.n = stateDim\n",
    "        self.m = actionDim\n",
    "        self.envName = envName\n",
    "        self.actionIsDiscrete = actionIsDiscrete\n",
    "        if self.envName == 'MountainCarContinuous-v0':\n",
    "            self.generateNormalizer()\n",
    "        \n",
    "    def generateNormalizer(self):\n",
    "        env = gym.make(self.envName)\n",
    "        state_space_samples = np.array(\n",
    "            [env.observation_space.sample() for x in range(10000)])\n",
    "        self.scaler = sklearn.preprocessing.StandardScaler()\n",
    "        self.scaler.fit(state_space_samples)    \n",
    "    \n",
    "    def policy_func(self, state, weights):\n",
    "\n",
    "        '''\n",
    "        weights[0] A is n*m, weights[1] b is 1*m\n",
    "        n is dimension of s, m is dimension of action\n",
    "            For example, in CartPole task, n of observation is 4, m of action is 2\n",
    "        '''\n",
    "        if self.envName == 'MountainCarContinuous-v0':\n",
    "            state = self.scaler.transform([state])\n",
    "            \n",
    "        A = weights[0]\n",
    "        b = weights[1]\n",
    "        if self.actionIsDiscrete:\n",
    "            return np.argmax(np.dot(state, A) + b)\n",
    "        else:\n",
    "            #print(state.shape,A.shape,b.shape,(np.dot(state, A) + b)[0].shape)\n",
    "            return (np.dot(state, A) + b)[0]\n",
    "\n",
    "    def reward_func(self, state, reward):\n",
    "        if self.envName == 'MountainCarContinuous-v0':\n",
    "#             if state[0] > 0.4:\n",
    "#                 reward += 40\n",
    "#             elif state[0] > 0.2:\n",
    "#                 reward += 20\n",
    "#             elif state[0] > -0.2:\n",
    "#                 reward += 10\n",
    "            reward += 1*(state[0]+0.6)**2\n",
    "\n",
    "        return reward\n",
    "        \n",
    "    # control variate term mechanisms\n",
    "    def vanilla(self, env, paras, gaussian_samples, sample_size, step_size, sigma, total_rewards):\n",
    "        for g_sample in gaussian_samples:\n",
    "            perturbed_paras = paras + sigma * g_sample\n",
    "            #         perturbed_weights = [perturbed_paras[:n*m].reshape((n,m)),perturbed_paras[-m:].reshape(1,m)]\n",
    "            perturbed_weights = [perturbed_paras[:self.n * self.m].reshape((self.n, self.m)),\n",
    "                                 perturbed_paras[self.n * self.m:self.n * self.m + self.m].reshape(1,\n",
    "                                                                                                   self.m)]\n",
    "\n",
    "            # search F, the total reward\n",
    "            total_reward = self.search_reward(env, perturbed_weights, step_size)\n",
    "\n",
    "            total_rewards.append(total_reward)\n",
    "        \n",
    "        # estimate gradient according to Gaussian Smoothing Lemma\n",
    "        gaussian_smoothing_gradient = (1 / (sigma * sample_size)) * sum(\n",
    "            [total_rewards[i] * gaussian_samples[i] for i in range(sample_size)])\n",
    "        return gaussian_smoothing_gradient\n",
    "    \n",
    "    def antithetic(self,env,paras,gaussian_samples,sample_size,step_size,sigma,total_rewards):\n",
    "        total_rewards_diff = []\n",
    "        for g_sample in gaussian_samples:\n",
    "            perturbed_paras = paras+sigma*g_sample\n",
    "            perturbed_weights = [perturbed_paras[:self.n * self.m].reshape((self.n, self.m)),\n",
    "                                 perturbed_paras[self.n * self.m:self.n * self.m + self.m].reshape(1,\n",
    "                                                                                                   self.m)]\n",
    "\n",
    "            # search F, the total reward\n",
    "            total_reward = self.search_reward(env,perturbed_weights,step_size)\n",
    "\n",
    "            # antithtic sample\n",
    "            perturbed_paras_anti = paras+(-sigma)*g_sample\n",
    "            perturbed_weights_anti = [perturbed_paras_anti[:self.n * self.m].reshape((self.n, self.m)),\n",
    "                                 perturbed_paras_anti[self.n * self.m:self.n * self.m + self.m].reshape(1,\n",
    "                                                                                                   self.m)]\n",
    "\n",
    "            # search F, the total reward\n",
    "            total_reward_anti = self.search_reward(env,perturbed_weights_anti,step_size)\n",
    "\n",
    "            total_rewards.append((total_reward+total_reward_anti)/2)\n",
    "            total_rewards_diff.append(total_reward-total_reward_anti)\n",
    "\n",
    "        # estimate gradient according to Gaussian Smoothing Lemma\n",
    "        gaussian_smoothing_gradient = (1/(2*sigma*sample_size))*sum([total_rewards_diff[i]*gaussian_samples[i] for i in range(sample_size)])\n",
    "        return gaussian_smoothing_gradient\n",
    "    \n",
    "    def forward_fd(self,env,paras,gaussian_samples,sample_size,step_size,sigma,total_rewards):\n",
    "        total_rewards_diff = []\n",
    "        base_weights = [paras[:self.n * self.m].reshape((self.n, self.m)),\n",
    "                                 paras[self.n * self.m:self.n * self.m + self.m].reshape(1,\n",
    "                                                                                                   self.m)]\n",
    "        total_reward_orgin = self.search_reward(env,base_weights,step_size)\n",
    "        for g_sample in gaussian_samples:\n",
    "            perturbed_paras = paras+sigma*g_sample\n",
    "            perturbed_weights = [perturbed_paras[:self.n * self.m].reshape((self.n, self.m)),\n",
    "                                 perturbed_paras[self.n * self.m:self.n * self.m + self.m].reshape(1,\n",
    "                                                                                                   self.m)]\n",
    "\n",
    "            # search F, the total reward\n",
    "            total_reward = self.search_reward(env,perturbed_weights,step_size)\n",
    "\n",
    "            total_rewards.append(total_reward)\n",
    "\n",
    "        # estimate gradient according to Gaussian Smoothing Lemma\n",
    "        gaussian_smoothing_gradient = (1/(2*sigma*sample_size))*sum([(total_rewards[i]-total_reward_orgin)*gaussian_samples[i] for i in range(sample_size)])\n",
    "        return gaussian_smoothing_gradient\n",
    "\n",
    "    def regression_basd_ridge(self,env,paras,gaussian_samples,sample_size,step_size,sigma,total_rewards,alpha=0.1): \n",
    "        base_weights = [paras[:self.n * self.m].reshape((self.n, self.m)),\n",
    "                                 paras[self.n * self.m:self.n * self.m + self.m].reshape(1,\n",
    "                                                                                                   self.m)]\n",
    "        total_reward_orgin = self.search_reward(env,base_weights,step_size)\n",
    "        for g_sample in gaussian_samples:\n",
    "            perturbed_paras = paras+sigma*g_sample\n",
    "            perturbed_weights = [perturbed_paras[:self.n * self.m].reshape((self.n, self.m)),\n",
    "                                 perturbed_paras[self.n * self.m:self.n * self.m + self.m].reshape(1,\n",
    "                                                                                                   self.m)]\n",
    "\n",
    "            # search F, the total reward\n",
    "            total_reward = self.search_reward(env,perturbed_weights,step_size)\n",
    "\n",
    "            total_rewards.append(total_reward)\n",
    "\n",
    "        # estimate gradient according to Gaussian Smoothing Lemma\n",
    "        Y=[(total_rewards[i]-total_reward_orgin)/sigma for i in range(sample_size)]\n",
    "        ridge=Ridge(alpha=alpha)\n",
    "        ridge.fit(gaussian_samples,Y)\n",
    "        regression_ridge_gradient=ridge.coef_\n",
    "        return regression_ridge_gradient\n",
    "    \n",
    "    def regression_basd_lasso(self,env,paras,gaussian_samples,sample_size,step_size,sigma,total_rewards,alpha=0.1): \n",
    "        base_weights = [paras[:self.n * self.m].reshape((self.n, self.m)),\n",
    "                                 paras[self.n * self.m:self.n * self.m + self.m].reshape(1,\n",
    "                                                                                                   self.m)]\n",
    "        total_reward_orgin = self.search_reward(env,base_weights,step_size)\n",
    "        for g_sample in gaussian_samples:\n",
    "            perturbed_paras = paras+sigma*g_sample\n",
    "            perturbed_weights = [perturbed_paras[:self.n * self.m].reshape((self.n, self.m)),\n",
    "                                 perturbed_paras[self.n * self.m:self.n * self.m + self.m].reshape(1,\n",
    "                                                                                                   self.m)]\n",
    "\n",
    "            # search F, the total reward\n",
    "            total_reward = self.search_reward(env,perturbed_weights,step_size)\n",
    "\n",
    "            total_rewards.append(total_reward)\n",
    "\n",
    "        # estimate gradient according to Gaussian Smoothing Lemma\n",
    "        Y=[(total_rewards[i]-total_reward_orgin)/sigma for i in range(sample_size)]\n",
    "        lasso=Lasso(alpha=alpha)\n",
    "        lasso.fit(gaussian_samples,Y)\n",
    "        regression_lasso_gradient=lasso.coef_\n",
    "        return regression_lasso_gradient\n",
    "    \n",
    "    def regression_basd_LP(self,env,paras,gaussian_samples,sample_size,step_size,sigma,total_rewards,alpha=0.1): \n",
    "        base_weights = [paras[:self.n * self.m].reshape((self.n, self.m)),\n",
    "                                 paras[self.n * self.m:self.n * self.m + self.m].reshape(1,\n",
    "                                                                                                   self.m)]\n",
    "        total_reward_orgin = self.search_reward(env,base_weights,step_size)\n",
    "        for g_sample in gaussian_samples:\n",
    "            perturbed_paras = paras+sigma*g_sample\n",
    "            perturbed_weights = [perturbed_paras[:self.n * self.m].reshape((self.n, self.m)),\n",
    "                                 perturbed_paras[self.n * self.m:self.n * self.m + self.m].reshape(1,\n",
    "                                                                                                   self.m)]\n",
    "\n",
    "            # search F, the total reward\n",
    "            total_reward = self.search_reward(env,perturbed_weights,step_size)\n",
    "\n",
    "            total_rewards.append(total_reward)\n",
    "\n",
    "        # estimate gradient according to Gaussian Smoothing Lemma\n",
    "        Y=[(total_rewards[i]-total_reward_orgin)/sigma for i in range(sample_size)]\n",
    "        C = np.ones(sample_size+len(paras))\n",
    "        C[sample_size:]=0\n",
    "        A_ub=np.zeros((2*sample_size,sample_size+len(paras)))\n",
    "        for i in range(sample_size):\n",
    "            for j in range(sample_size):\n",
    "                if i==j:\n",
    "                    A_ub[i,j]=-1\n",
    "                    A_ub[i+sample_size,j]=-1\n",
    "        for i in range(sample_size):\n",
    "            for j in range(len(paras)):\n",
    "                A_ub[i,j+sample_size]=-gaussian_samples[i][j]\n",
    "        for i in range(sample_size):\n",
    "            for j in range(len(paras)):\n",
    "                A_ub[i+sample_size,j+sample_size]=gaussian_samples[i][j]\n",
    "        b_ub=np.zeros(2*sample_size)\n",
    "        for i in range(sample_size):\n",
    "            b_ub[i]=-Y[i]\n",
    "        for i in range(sample_size):\n",
    "            b_ub[i+sample_size]=Y[i]\n",
    "        Bounds=tuple([(0,None) for i in range(sample_size)]+[(None,None) for i in range(len(paras))])\n",
    "        r = linprog(C,A_ub,b_ub,bounds=Bounds)\n",
    "        regression_LP_gradient = r.x[sample_size:]\n",
    "        return regression_LP_gradient    \n",
    "\n",
    "    \n",
    "    # sampling methods\n",
    "    # with samples chosen independently\n",
    "    def gaussian_sampling(self, base_paras, sample_size):\n",
    "        return [np.random.normal(loc=0, scale=1, size=base_paras.shape) for i in range(sample_size)]\n",
    "    \n",
    "    def givens_random_rotation(self,base_paras, sample_size):\n",
    "        sample_paras = []\n",
    "        for sample in range(sample_size):\n",
    "            angle = np.random.rand() * 2 * np.pi\n",
    "            rank = len(base_paras)\n",
    "            paras_index = np.arange(rank)\n",
    "            np.random.shuffle(paras_index)\n",
    "            i, j = paras_index[:2]\n",
    "            givens_rotation_matrix = np.zeros([rank, rank])\n",
    "            givens_rotation_matrix[range(rank), range(rank)] = 1\n",
    "            givens_rotation_matrix[i, i] = np.cos(angle)\n",
    "            givens_rotation_matrix[j, j] = np.cos(angle)\n",
    "            givens_rotation_matrix[i, j] = np.sin(angle)\n",
    "            givens_rotation_matrix[j, i] = -np.sin(angle)\n",
    "            sample_paras.append(np.dot(givens_rotation_matrix, base_paras))\n",
    "        #print(sample_paras)\n",
    "        return sample_paras\n",
    "    \n",
    "    def givens_random_rotation_new(self,base_paras, sample_size):\n",
    "        sample_paras = []\n",
    "        for sample in range(sample_size):\n",
    "            angle = np.random.rand() * 2 * np.pi\n",
    "            rank = len(base_paras)\n",
    "            paras_index = np.arange(rank)\n",
    "            np.random.shuffle(paras_index)\n",
    "            i, j = paras_index[:2]\n",
    "            givens_rotation_matrix = np.zeros([rank, rank])\n",
    "            givens_rotation_matrix[range(rank), range(rank)] = 1\n",
    "            givens_rotation_matrix[i, i] = np.cos(angle)\n",
    "            givens_rotation_matrix[j, j] = np.cos(angle)\n",
    "            givens_rotation_matrix[i, j] = np.sin(angle)\n",
    "            givens_rotation_matrix[j, i] = -np.sin(angle)\n",
    "            new_paras = np.random.normal(loc=0,scale=1,size=base_paras.shape)\n",
    "            sample_paras.append(np.dot(givens_rotation_matrix, new_paras))\n",
    "        return sample_paras\n",
    "    \n",
    "    \n",
    "    def gaussian_orthogonal_matrices_sampling(self,base_paras,sample_size):\n",
    "    \n",
    "        def Gram_Schmidt_Orthogonalization(base_paras,sample_size):\n",
    "            # assumption: sample_size<=paras_num\n",
    "            gaussian_samples = [np.random.randn(base_paras.shape[0]) for i in range(sample_size)]\n",
    "            orthogonal_gaussian_samples = np.zeros_like(gaussian_samples)\n",
    "            for i,alpha in enumerate(gaussian_samples):\n",
    "                beta = np.copy(alpha)\n",
    "                for beta_i in orthogonal_gaussian_samples[:i]:\n",
    "                    beta -= np.dot(alpha,beta_i.T)*beta_i\n",
    "                orthogonal_gaussian_samples[i] = beta/np.sqrt(np.dot(beta,beta.T))\n",
    "\n",
    "                # renormalization\n",
    "                orthogonal_gaussian_samples[i] = orthogonal_gaussian_samples[i]*np.sqrt(np.dot(alpha,alpha.T))\n",
    "\n",
    "            return orthogonal_gaussian_samples\n",
    "\n",
    "        if sample_size>len(base_paras):\n",
    "            # Gram-Schmidt Orthogonalization Assumption not met\n",
    "            # According to the paper, when N>d, each consecutive set of d vectors is conditioned to be orthogonal almost-surely, with distinct sets of d vectors remaining independent.\n",
    "            d = len(base_paras)\n",
    "            i = 0\n",
    "            gaussian_orthogonal_matrices = np.zeros((sample_size,len(base_paras)))\n",
    "            while i*d<sample_size:\n",
    "                gaussian_orthogonal_matrices[i*d:min((i+1)*d,sample_size)] = Gram_Schmidt_Orthogonalization(base_paras,min(d,sample_size-i*d))\n",
    "                i += 1\n",
    "        else:\n",
    "            gaussian_orthogonal_matrices = Gram_Schmidt_Orthogonalization(base_paras,sample_size)\n",
    "\n",
    "        return gaussian_orthogonal_matrices\n",
    "\n",
    "    def random_Hadamard_matrices_sampling(self, base_paras, sample_size=None, k=3):\n",
    "        d = base_paras.shape[0]\n",
    "        l = 2 ** int(np.ceil(np.log2(d)))\n",
    "        M = np.eye(l)\n",
    "        H = hadamard(l)\n",
    "        for _ in range(k):\n",
    "            D = np.diag([np.random.choice([-1, 1]) for _ in range(l)])\n",
    "            HD = (1 / np.sqrt(l)) * np.matmul(H, D)\n",
    "#             HD = np.matmul(H, D)\n",
    "            M = np.matmul(M, HD)\n",
    "\n",
    "        return [np.array(x) for x in M]\n",
    "\n",
    "    def search_reward(self, env, perturbed_weights, step_size):\n",
    "        total_reward = 0\n",
    "\n",
    "        state = env.reset()  # return initial state\n",
    "\n",
    "        for _ in range(step_size):\n",
    "            action = self.policy_func(state, perturbed_weights)\n",
    "            if not self.actionIsDiscrete:\n",
    "                if action>env.action_space.high:\n",
    "                    action=env.action_space.high\n",
    "                elif action<env.action_space.low:\n",
    "                    action=env.action_space.low\n",
    "            state, reward, done, info = env.step(action)\n",
    "            total_reward += reward\n",
    "#             total_reward += self.reward_func(state, reward)\n",
    "            if done:\n",
    "                break\n",
    "        return total_reward\n",
    "\n",
    "    # simulation for each step of optimization\n",
    "    def one_step_optimize(self, env, paras, gaussian_samples, sample_size, control_variate_func, step_size=500, sigma=1,\n",
    "                          learning_rate=0.1):\n",
    "        total_rewards = []\n",
    "\n",
    "        gaussian_smoothing_gradient = control_variate_func(env, paras, gaussian_samples, sample_size, step_size, sigma,\n",
    "                                                           total_rewards)\n",
    "\n",
    "        # update parameters\n",
    "        new_paras = paras + learning_rate * gaussian_smoothing_gradient\n",
    "\n",
    "        return new_paras, np.mean(total_rewards)\n",
    "\n",
    "    def optimization(self, env, paras, control_variate_func, sampling_func, step_size=200, sample_size=50, sigma=1,\n",
    "                     learning_rate=0.1, echos=50):\n",
    "        new_paras = paras\n",
    "        avg_reward_list = []\n",
    "        sample_nums_list = []\n",
    "        for e in range(1, echos + 1):\n",
    "            # gaussian sampling, assume σ=1\n",
    "            gaussian_samples = sampling_func(new_paras, sample_size)\n",
    "            new_paras, avg_reward = self.one_step_optimize(env, new_paras, gaussian_samples, sample_size,\n",
    "                                                           control_variate_func, step_size, sigma, learning_rate)\n",
    "            avg_reward_list.append(avg_reward)\n",
    "            sample_nums_list.append(e * sample_size)\n",
    "            if e == 1 or e % 10 == 0:\n",
    "                print('Echo %d completed, avg_reward %f' % (e, avg_reward))\n",
    "\n",
    "        return new_paras, avg_reward_list, sample_nums_list\n",
    "\n",
    "    def trainModel(self, control_variate_name='vanilla', sampling_func_name='gaussian_sampling', step_size=200,\n",
    "                   sample_size=50, sigma=1, learning_rate=0.1, echos=50):\n",
    "        env = gym.make(self.envName)\n",
    "\n",
    "        control_variate_func = {'vanilla': self.vanilla,\n",
    "                                'antithetic': self.antithetic,\n",
    "                                'forward_fd':self.forward_fd,\n",
    "                                'regression_basd_ridge': self.regression_basd_ridge,\n",
    "                                'regression_basd_lasso': self.regression_basd_lasso,\n",
    "                                'regression_basd_LP': self.regression_basd_LP\n",
    "                               }.get(control_variate_name)\n",
    "        sampling_func = {'gaussian_sampling': self.gaussian_sampling,\n",
    "                         'gaussian_orthogonal_matrices_sampling':self.gaussian_orthogonal_matrices_sampling,\n",
    "                         'random_Hadamard_matrices_sampling': self.random_Hadamard_matrices_sampling,\n",
    "                         'givens_random_rotation':self.givens_random_rotation,\n",
    "                         'givens_random_rotation_new':self.givens_random_rotation_new\n",
    "                        }.get(\n",
    "            sampling_func_name)\n",
    "\n",
    "        if sampling_func_name == 'random_Hadamard_matrices_sampling':\n",
    "            l = 2 ** int(np.ceil(np.log2((self.n + 1) * self.m)))\n",
    "            initial_paras = np.random.rand(l)\n",
    "            sample_size = l\n",
    "            self.trainedParas, avg_reward_list, sample_nums_list = self.optimization(env, initial_paras,\n",
    "                                                                                     control_variate_func,\n",
    "                                                                                     sampling_func, sample_size=sample_size,\n",
    "                                                                                     step_size=step_size, sigma=sigma,\n",
    "                                                                                     learning_rate=learning_rate,\n",
    "                                                                                     echos=echos)\n",
    "        else:\n",
    "            initial_paras = np.random.rand((self.n + 1) * self.m)\n",
    "            self.trainedParas, avg_reward_list, sample_nums_list = self.optimization(env, initial_paras,\n",
    "                                                                                     control_variate_func,\n",
    "                                                                                     sampling_func,\n",
    "                                                                                     sample_size=sample_size,\n",
    "                                                                                     step_size=step_size, sigma=sigma,\n",
    "                                                                                     learning_rate=learning_rate,\n",
    "                                                                                     echos=echos)\n",
    "\n",
    "        env.close()\n",
    "        plt.plot(sample_nums_list, avg_reward_list)\n",
    "        plt.title('%s (sample size=%d, iterations=%d)' % (self.envName, sample_size, echos))\n",
    "        plt.xlabel('Total Number of Samples')\n",
    "        plt.ylabel('Average Rewards')\n",
    "        \n",
    "#         return (sample_nums_list, avg_reward_list)\n",
    "\n",
    "    def testModel(self, steps=500, repeat_num = 5, isShow=0, isSave=0):\n",
    "        env = gym.make(self.envName)\n",
    "        total_reward = []\n",
    "        for i in range(repeat_num):\n",
    "            try:\n",
    "                new_weights = [self.trainedParas[:self.n * self.m].reshape((self.n, self.m)),\n",
    "                               self.trainedParas[self.n * self.m:self.n * self.m + self.m].reshape(1, self.m)]\n",
    "            except AttributeError:\n",
    "                print('Error! Please train model before test!')\n",
    "                return\n",
    "\n",
    "            observation = env.reset()\n",
    "            r = 0\n",
    "            frames = []\n",
    "\n",
    "            for _ in range(steps):\n",
    "                if isShow:\n",
    "                    if isSave:\n",
    "                        frames.append(env.render(mode=\"rgb_array\"))\n",
    "                    else:\n",
    "                        env.render()\n",
    "\n",
    "                action = self.policy_func(observation, new_weights)\n",
    "                if not self.actionIsDiscrete:\n",
    "                    if action>env.action_space.high:\n",
    "                        action=env.action_space.high\n",
    "                    elif action<env.action_space.low:\n",
    "                        action=env.action_space.low\n",
    "\n",
    "                observation, reward, done, info = env.step(action)\n",
    "                r += reward\n",
    "                if done:\n",
    "                    print('Finish in %d steps'%_)\n",
    "                    break       \n",
    "            total_reward.append(r)\n",
    "            \n",
    "            env.close()\n",
    "            #print('Total Rewards:', r)\n",
    "            if isShow and isSave:\n",
    "                self.save_frames_as_gif(frames)\n",
    "        \n",
    "        print('The rewards for',repeat_num,'attemps is:',total_reward)\n",
    "        print('The average reward for',repeat_num,'attemps is:',np.array(total_reward).mean())\n",
    "        print('The standard deviation for',repeat_num,'attemps is:',np.array(total_reward).std())            \n",
    "            \n",
    "    \n",
    "    def save_frames_as_gif(self, frames):\n",
    "        plt.figure(figsize=(frames[0].shape[1] / 72.0, frames[0].shape[0] / 72.0), dpi=72)\n",
    "\n",
    "        patch = plt.imshow(frames[0])\n",
    "        plt.axis('off')\n",
    "\n",
    "        def animate(i):\n",
    "            patch.set_data(frames[i])\n",
    "\n",
    "        anim = animation.FuncAnimation(plt.gcf(), animate, frames = len(frames), interval=50)\n",
    "        anim.save(self.envName+'.gif', writer='imagemagick', fps=60)\n",
    "\n",
    "    \n",
    "    "
   ]
  },
  {
   "cell_type": "markdown",
   "metadata": {},
   "source": [
    "## CartPole-v0"
   ]
  },
  {
   "cell_type": "markdown",
   "metadata": {},
   "source": [
    "    'gaussian_sampling'\n",
    "    'gaussian_orthogonal_matrices_sampling'\n",
    "    'random_Hadamard_matrices_sampling'\n",
    "    'givens_random_rotation'\n",
    "    'givens_random_rotation_new'"
   ]
  },
  {
   "cell_type": "code",
   "execution_count": 4,
   "metadata": {},
   "outputs": [],
   "source": [
    "obj = ESMethods('CartPole-v0', 4, 2, 1)"
   ]
  },
  {
   "cell_type": "code",
   "execution_count": 5,
   "metadata": {},
   "outputs": [
    {
     "name": "stdout",
     "output_type": "stream",
     "text": [
      "Echo 1 completed, avg_reward 13.420000\n",
      "Echo 10 completed, avg_reward 198.990000\n",
      "Echo 20 completed, avg_reward 200.000000\n",
      "Echo 30 completed, avg_reward 200.000000\n",
      "Echo 40 completed, avg_reward 200.000000\n",
      "Echo 50 completed, avg_reward 199.720000\n"
     ]
    },
    {
     "data": {
      "image/png": "[encoded data removed]",
      "text/plain": [
       "<Figure size 432x288 with 1 Axes>"
      ]
     },
     "metadata": {
      "needs_background": "light"
     },
     "output_type": "display_data"
    }
   ],
   "source": [
    "obj.trainModel('antithetic', 'gaussian_sampling',step_size=500)"
   ]
  },
  {
   "cell_type": "code",
   "execution_count": 6,
   "metadata": {},
   "outputs": [
    {
     "name": "stdout",
     "output_type": "stream",
     "text": [
      "Finish in 199 steps\n",
      "Finish in 199 steps\n",
      "Finish in 199 steps\n",
      "Finish in 199 steps\n",
      "Finish in 199 steps\n",
      "The rewards for 5 attemps is: [200.0, 200.0, 200.0, 200.0, 200.0]\n",
      "The average reward for 5 attemps is: 200.0\n",
      "The standard deviation for 5 attemps is: 0.0\n"
     ]
    }
   ],
   "source": [
    "obj.testModel(steps=500, isSave=0 )"
   ]
  },
  {
   "cell_type": "code",
   "execution_count": 89,
   "metadata": {},
   "outputs": [
    {
     "name": "stdout",
     "output_type": "stream",
     "text": [
      "Echo 1 completed, avg_reward 10.560000\n",
      "Echo 10 completed, avg_reward 33.030000\n",
      "Echo 20 completed, avg_reward 200.000000\n",
      "Echo 30 completed, avg_reward 200.000000\n",
      "Echo 40 completed, avg_reward 200.000000\n",
      "Echo 50 completed, avg_reward 200.000000\n"
     ]
    },
    {
     "data": {
      "image/png": "[encoded data removed]",
      "text/plain": [
       "<Figure size 432x288 with 1 Axes>"
      ]
     },
     "metadata": {
      "needs_background": "light"
     },
     "output_type": "display_data"
    }
   ],
   "source": [
    "obj.trainModel('antithetic', 'gaussian_orthogonal_matrices_sampling',step_size=500)"
   ]
  },
  {
   "cell_type": "code",
   "execution_count": 90,
   "metadata": {},
   "outputs": [
    {
     "name": "stdout",
     "output_type": "stream",
     "text": [
      "Finish in 199 steps\n",
      "Finish in 199 steps\n",
      "Finish in 199 steps\n",
      "Finish in 199 steps\n",
      "Finish in 199 steps\n",
      "The rewards for 5 attemps is: [200.0, 200.0, 200.0, 200.0, 200.0]\n",
      "The average reward for 5 attemps is: 200.0\n",
      "The standard deviation for 5 attemps is: 0.0\n"
     ]
    }
   ],
   "source": [
    "obj.testModel(steps=500, isSave=0)"
   ]
  },
  {
   "cell_type": "code",
   "execution_count": 91,
   "metadata": {},
   "outputs": [
    {
     "name": "stdout",
     "output_type": "stream",
     "text": [
      "Echo 1 completed, avg_reward 20.937500\n",
      "Echo 10 completed, avg_reward 189.843750\n",
      "Echo 20 completed, avg_reward 199.187500\n",
      "Echo 30 completed, avg_reward 197.375000\n",
      "Echo 40 completed, avg_reward 200.000000\n",
      "Echo 50 completed, avg_reward 200.000000\n"
     ]
    },
    {
     "data": {
      "image/png": "[encoded data removed]",
      "text/plain": [
       "<Figure size 432x288 with 1 Axes>"
      ]
     },
     "metadata": {
      "needs_background": "light"
     },
     "output_type": "display_data"
    }
   ],
   "source": [
    "obj.trainModel('antithetic', 'random_Hadamard_matrices_sampling',step_size=500)"
   ]
  },
  {
   "cell_type": "code",
   "execution_count": 92,
   "metadata": {},
   "outputs": [
    {
     "name": "stdout",
     "output_type": "stream",
     "text": [
      "Finish in 199 steps\n",
      "Finish in 199 steps\n",
      "Finish in 199 steps\n",
      "Finish in 199 steps\n",
      "Finish in 199 steps\n",
      "The rewards for 5 attemps is: [200.0, 200.0, 200.0, 200.0, 200.0]\n",
      "The average reward for 5 attemps is: 200.0\n",
      "The standard deviation for 5 attemps is: 0.0\n"
     ]
    }
   ],
   "source": [
    "obj.testModel(steps=500, isSave=0)"
   ]
  },
  {
   "cell_type": "code",
   "execution_count": 93,
   "metadata": {},
   "outputs": [
    {
     "name": "stdout",
     "output_type": "stream",
     "text": [
      "Echo 1 completed, avg_reward 12.680000\n",
      "Echo 10 completed, avg_reward 187.000000\n",
      "Echo 20 completed, avg_reward 200.000000\n",
      "Echo 30 completed, avg_reward 199.620000\n",
      "Echo 40 completed, avg_reward 200.000000\n",
      "Echo 50 completed, avg_reward 200.000000\n"
     ]
    },
    {
     "data": {
      "image/png": "[encoded data removed]",
      "text/plain": [
       "<Figure size 432x288 with 1 Axes>"
      ]
     },
     "metadata": {
      "needs_background": "light"
     },
     "output_type": "display_data"
    }
   ],
   "source": [
    "obj.trainModel('antithetic', 'givens_random_rotation_new',step_size=500)"
   ]
  },
  {
   "cell_type": "code",
   "execution_count": 94,
   "metadata": {},
   "outputs": [
    {
     "name": "stdout",
     "output_type": "stream",
     "text": [
      "Finish in 199 steps\n",
      "Finish in 199 steps\n",
      "Finish in 199 steps\n",
      "Finish in 199 steps\n",
      "Finish in 199 steps\n",
      "The rewards for 5 attemps is: [200.0, 200.0, 200.0, 200.0, 200.0]\n",
      "The average reward for 5 attemps is: 200.0\n",
      "The standard deviation for 5 attemps is: 0.0\n"
     ]
    }
   ],
   "source": [
    "obj.testModel(steps=500, isSave=0)"
   ]
  },
  {
   "cell_type": "markdown",
   "metadata": {},
   "source": [
    "## MountainCarContinuous"
   ]
  },
  {
   "cell_type": "code",
   "execution_count": 7,
   "metadata": {},
   "outputs": [],
   "source": [
    "obj = ESMethods('MountainCarContinuous-v0', 2, 1, 0)"
   ]
  },
  {
   "cell_type": "code",
   "execution_count": 96,
   "metadata": {},
   "outputs": [
    {
     "name": "stdout",
     "output_type": "stream",
     "text": [
      "Echo 1 completed, avg_reward 3.320718\n",
      "Echo 10 completed, avg_reward 91.448418\n",
      "Echo 20 completed, avg_reward 91.629589\n",
      "Echo 30 completed, avg_reward 91.581337\n",
      "Echo 40 completed, avg_reward 92.313070\n",
      "Echo 50 completed, avg_reward 89.315572\n"
     ]
    },
    {
     "data": {
      "image/png": "[encoded data removed]",
      "text/plain": [
       "<Figure size 432x288 with 1 Axes>"
      ]
     },
     "metadata": {
      "needs_background": "light"
     },
     "output_type": "display_data"
    }
   ],
   "source": [
    "obj.trainModel('antithetic', 'gaussian_sampling', step_size=500)"
   ]
  },
  {
   "cell_type": "code",
   "execution_count": 99,
   "metadata": {
    "scrolled": true
   },
   "outputs": [
    {
     "name": "stdout",
     "output_type": "stream",
     "text": [
      "Finish in 70 steps\n",
      "Finish in 70 steps\n",
      "Finish in 70 steps\n",
      "Finish in 70 steps\n",
      "Finish in 70 steps\n",
      "Finish in 98 steps\n",
      "Finish in 74 steps\n",
      "Finish in 70 steps\n",
      "Finish in 98 steps\n",
      "Finish in 70 steps\n",
      "Finish in 77 steps\n",
      "Finish in 99 steps\n",
      "Finish in 98 steps\n",
      "Finish in 70 steps\n",
      "Finish in 70 steps\n",
      "Finish in 103 steps\n",
      "Finish in 98 steps\n",
      "Finish in 70 steps\n",
      "Finish in 70 steps\n",
      "Finish in 99 steps\n",
      "Finish in 70 steps\n",
      "Finish in 98 steps\n",
      "Finish in 99 steps\n",
      "Finish in 70 steps\n",
      "Finish in 70 steps\n",
      "Finish in 102 steps\n",
      "Finish in 70 steps\n",
      "Finish in 73 steps\n",
      "Finish in 70 steps\n",
      "Finish in 70 steps\n",
      "The rewards for 30 attemps is: [93.55183232596679, 93.46317525677887, 93.36328404063936, 93.3027425111172, 93.30095434027507, 90.89821161349137, 93.65428160112947, 93.59717163530152, 90.69099135943159, 93.48866898472741, 93.69135262440521, 90.97682264974571, 90.89460261003956, 93.3170687294537, 93.4615377406573, 91.09264724049542, 90.80521538012403, 93.39334994473903, 93.2756228225401, 90.84128467031155, 93.35648354163953, 90.89612201527055, 90.97539969459402, 93.28811487413591, 93.38501250288773, 91.01032043393194, 93.43672411446677, 93.65872478719973, 93.28310769879602, 93.51136665024235]\n",
      "The average reward for 30 attemps is: 92.59540647981784\n",
      "The standard deviation for 30 attemps is: 1.199540714691093\n"
     ]
    }
   ],
   "source": [
    "obj.testModel(steps=500, isSave=0, repeat_num = 30)"
   ]
  },
  {
   "cell_type": "code",
   "execution_count": 101,
   "metadata": {},
   "outputs": [
    {
     "name": "stdout",
     "output_type": "stream",
     "text": [
      "Echo 1 completed, avg_reward 11.963831\n",
      "Echo 10 completed, avg_reward 91.848120\n",
      "Echo 20 completed, avg_reward 91.923167\n",
      "Echo 30 completed, avg_reward 91.819592\n",
      "Echo 40 completed, avg_reward 92.338280\n",
      "Echo 50 completed, avg_reward 92.300366\n"
     ]
    },
    {
     "data": {
      "image/png": "[encoded data removed]",
      "text/plain": [
       "<Figure size 432x288 with 1 Axes>"
      ]
     },
     "metadata": {
      "needs_background": "light"
     },
     "output_type": "display_data"
    }
   ],
   "source": [
    "obj.trainModel('antithetic', 'gaussian_orthogonal_matrices_sampling',step_size=500)"
   ]
  },
  {
   "cell_type": "code",
   "execution_count": 102,
   "metadata": {
    "scrolled": true
   },
   "outputs": [
    {
     "name": "stdout",
     "output_type": "stream",
     "text": [
      "Finish in 70 steps\n",
      "Finish in 71 steps\n",
      "Finish in 71 steps\n",
      "Finish in 77 steps\n",
      "Finish in 72 steps\n",
      "Finish in 72 steps\n",
      "Finish in 70 steps\n",
      "Finish in 71 steps\n",
      "Finish in 76 steps\n",
      "Finish in 70 steps\n",
      "Finish in 86 steps\n",
      "Finish in 70 steps\n",
      "Finish in 74 steps\n",
      "Finish in 70 steps\n",
      "Finish in 71 steps\n",
      "Finish in 70 steps\n",
      "Finish in 70 steps\n",
      "Finish in 71 steps\n",
      "Finish in 70 steps\n",
      "Finish in 71 steps\n",
      "Finish in 72 steps\n",
      "Finish in 71 steps\n",
      "Finish in 70 steps\n",
      "Finish in 70 steps\n",
      "Finish in 72 steps\n",
      "Finish in 104 steps\n",
      "Finish in 70 steps\n",
      "Finish in 70 steps\n",
      "Finish in 71 steps\n",
      "Finish in 70 steps\n",
      "The rewards for 30 attemps is: [93.28549678679161, 93.39356030286858, 93.33203920177274, 93.60614209379307, 93.03548661287843, 93.02955195049458, 93.37862754126269, 93.42810464284996, 93.57241711101089, 93.35170300273953, 93.7291939184628, 93.23861666317119, 93.42064901703662, 93.24944822456591, 93.14315360731631, 93.2668774332559, 93.30173481994899, 93.14275919341125, 93.34992804953735, 93.13810910403629, 93.04144120044268, 93.14058671952817, 93.23578390344069, 93.28889885045089, 93.36977831609933, 93.37583173123912, 93.32215269812342, 93.29975642911418, 93.14148451543643, 93.25325991518113]\n",
      "The average reward for 30 attemps is: 93.295419118542\n",
      "The standard deviation for 30 attemps is: 0.15966830021825507\n"
     ]
    }
   ],
   "source": [
    "obj.testModel(steps=500, isSave=0, repeat_num = 30)"
   ]
  },
  {
   "cell_type": "code",
   "execution_count": 103,
   "metadata": {},
   "outputs": [
    {
     "name": "stdout",
     "output_type": "stream",
     "text": [
      "Echo 1 completed, avg_reward 17.419312\n",
      "Echo 10 completed, avg_reward 92.143001\n",
      "Echo 20 completed, avg_reward 92.384074\n",
      "Echo 30 completed, avg_reward 92.733818\n",
      "Echo 40 completed, avg_reward 92.620340\n",
      "Echo 50 completed, avg_reward 91.577571\n"
     ]
    },
    {
     "data": {
      "image/png": "[encoded data removed]",
      "text/plain": [
       "<Figure size 432x288 with 1 Axes>"
      ]
     },
     "metadata": {
      "needs_background": "light"
     },
     "output_type": "display_data"
    }
   ],
   "source": [
    "obj.trainModel('antithetic', 'random_Hadamard_matrices_sampling',step_size=500)"
   ]
  },
  {
   "cell_type": "code",
   "execution_count": 104,
   "metadata": {
    "scrolled": true
   },
   "outputs": [
    {
     "name": "stdout",
     "output_type": "stream",
     "text": [
      "Finish in 153 steps\n",
      "Finish in 75 steps\n",
      "Finish in 76 steps\n",
      "Finish in 76 steps\n",
      "Finish in 75 steps\n",
      "Finish in 77 steps\n",
      "Finish in 76 steps\n",
      "Finish in 75 steps\n",
      "Finish in 75 steps\n",
      "Finish in 76 steps\n",
      "Finish in 75 steps\n",
      "Finish in 75 steps\n",
      "Finish in 76 steps\n",
      "Finish in 86 steps\n",
      "Finish in 80 steps\n",
      "Finish in 80 steps\n",
      "Finish in 76 steps\n",
      "Finish in 79 steps\n",
      "Finish in 75 steps\n",
      "Finish in 75 steps\n",
      "Finish in 75 steps\n",
      "Finish in 75 steps\n",
      "Finish in 75 steps\n",
      "Finish in 76 steps\n",
      "Finish in 75 steps\n",
      "Finish in 76 steps\n",
      "Finish in 76 steps\n",
      "Finish in 152 steps\n",
      "Finish in 75 steps\n",
      "Finish in 97 steps\n",
      "The rewards for 30 attemps is: [89.73203139917155, 93.31204136998954, 93.08782348776778, 93.08648001991342, 93.37076835876266, 92.98976095157023, 93.35209569571147, 93.2144690375533, 93.2540360562223, 93.35142941581054, 93.2172760013175, 92.85844341827263, 93.40840204875025, 93.52452132218318, 93.48950123746538, 93.43749703764591, 93.47664103623914, 93.48168203341918, 93.28375495583788, 93.23492787733079, 93.20557678385393, 93.41557903297407, 93.23839726487991, 93.37733827487902, 93.2004910942782, 93.08693679852614, 93.08538520599343, 90.30051357044702, 93.19753724645166, 94.49756422789427]\n",
      "The average reward for 30 attemps is: 93.09229674203708\n",
      "The standard deviation for 30 attemps is: 0.8680527135343801\n"
     ]
    }
   ],
   "source": [
    "obj.testModel(steps=500, isSave=0, repeat_num = 30)"
   ]
  },
  {
   "cell_type": "code",
   "execution_count": 105,
   "metadata": {},
   "outputs": [
    {
     "name": "stdout",
     "output_type": "stream",
     "text": [
      "Echo 1 completed, avg_reward 26.263902\n",
      "Echo 10 completed, avg_reward 88.554565\n",
      "Echo 20 completed, avg_reward 91.642582\n",
      "Echo 30 completed, avg_reward 92.353384\n",
      "Echo 40 completed, avg_reward 92.106934\n",
      "Echo 50 completed, avg_reward 92.289436\n"
     ]
    },
    {
     "data": {
      "image/png": "[encoded data removed]",
      "text/plain": [
       "<Figure size 432x288 with 1 Axes>"
      ]
     },
     "metadata": {
      "needs_background": "light"
     },
     "output_type": "display_data"
    }
   ],
   "source": [
    "obj.trainModel('antithetic', 'givens_random_rotation_new',step_size=500)"
   ]
  },
  {
   "cell_type": "code",
   "execution_count": 106,
   "metadata": {
    "scrolled": true
   },
   "outputs": [
    {
     "name": "stdout",
     "output_type": "stream",
     "text": [
      "Finish in 71 steps\n",
      "Finish in 71 steps\n",
      "Finish in 74 steps\n",
      "Finish in 71 steps\n",
      "Finish in 74 steps\n",
      "Finish in 73 steps\n",
      "Finish in 71 steps\n",
      "Finish in 73 steps\n",
      "Finish in 71 steps\n",
      "Finish in 71 steps\n",
      "Finish in 73 steps\n",
      "Finish in 73 steps\n",
      "Finish in 72 steps\n",
      "Finish in 71 steps\n",
      "Finish in 73 steps\n",
      "Finish in 72 steps\n",
      "Finish in 71 steps\n",
      "Finish in 72 steps\n",
      "Finish in 72 steps\n",
      "Finish in 71 steps\n",
      "Finish in 74 steps\n",
      "Finish in 71 steps\n",
      "Finish in 73 steps\n",
      "Finish in 73 steps\n",
      "Finish in 74 steps\n",
      "Finish in 72 steps\n",
      "Finish in 72 steps\n",
      "Finish in 72 steps\n",
      "Finish in 71 steps\n",
      "Finish in 73 steps\n",
      "The rewards for 30 attemps is: [93.16444988087925, 93.1918701086228, 92.85647123648313, 93.18292263408172, 92.85637236574502, 92.95038123801729, 93.16867973055479, 92.95332739520441, 93.22950833495369, 93.19571385839163, 93.16168469949119, 92.95242591506643, 93.05207109272826, 93.2219893579339, 92.95010316809602, 93.04867049647274, 93.16229247945444, 93.23589503260548, 93.05079443753819, 93.16901967025679, 92.85649663113135, 93.16402888489613, 92.94815236827749, 92.95428740884047, 92.85647943639592, 93.04592336696163, 93.13608228655491, 93.23561045275625, 93.16496464779905, 92.94551453653085]\n",
      "The average reward for 30 attemps is: 93.06873943842405\n",
      "The standard deviation for 30 attemps is: 0.12889913766955824\n"
     ]
    }
   ],
   "source": [
    "obj.testModel(steps=500, isSave=0, repeat_num = 30)"
   ]
  },
  {
   "cell_type": "markdown",
   "metadata": {},
   "source": [
    "## Acrobot"
   ]
  },
  {
   "cell_type": "code",
   "execution_count": 10,
   "metadata": {},
   "outputs": [],
   "source": [
    "obj = ESMethods('Acrobot-v1', 6, 3, 1)"
   ]
  },
  {
   "cell_type": "code",
   "execution_count": 129,
   "metadata": {},
   "outputs": [
    {
     "name": "stdout",
     "output_type": "stream",
     "text": [
      "Echo 1 completed, avg_reward -417.380000\n",
      "Echo 10 completed, avg_reward -86.290000\n",
      "Echo 20 completed, avg_reward -85.130000\n",
      "Echo 30 completed, avg_reward -84.660000\n",
      "Echo 40 completed, avg_reward -89.050000\n",
      "Echo 50 completed, avg_reward -83.770000\n"
     ]
    },
    {
     "data": {
      "image/png": "[encoded data removed]",
      "text/plain": [
       "<Figure size 432x288 with 1 Axes>"
      ]
     },
     "metadata": {
      "needs_background": "light"
     },
     "output_type": "display_data"
    }
   ],
   "source": [
    "obj.trainModel('antithetic', 'gaussian_sampling',step_size=500)"
   ]
  },
  {
   "cell_type": "code",
   "execution_count": 130,
   "metadata": {
    "scrolled": true
   },
   "outputs": [
    {
     "name": "stdout",
     "output_type": "stream",
     "text": [
      "Finish in 92 steps\n",
      "Finish in 72 steps\n",
      "Finish in 85 steps\n",
      "Finish in 78 steps\n",
      "Finish in 79 steps\n",
      "Finish in 84 steps\n",
      "Finish in 78 steps\n",
      "Finish in 77 steps\n",
      "Finish in 64 steps\n",
      "Finish in 78 steps\n",
      "Finish in 99 steps\n",
      "Finish in 73 steps\n",
      "Finish in 114 steps\n",
      "Finish in 89 steps\n",
      "Finish in 97 steps\n",
      "Finish in 82 steps\n",
      "Finish in 86 steps\n",
      "Finish in 73 steps\n",
      "Finish in 78 steps\n",
      "Finish in 86 steps\n",
      "Finish in 85 steps\n",
      "Finish in 76 steps\n",
      "Finish in 85 steps\n",
      "Finish in 65 steps\n",
      "Finish in 77 steps\n",
      "Finish in 80 steps\n",
      "Finish in 80 steps\n",
      "Finish in 72 steps\n",
      "Finish in 85 steps\n",
      "Finish in 78 steps\n",
      "The rewards for 30 attemps is: [-92.0, -72.0, -85.0, -78.0, -79.0, -84.0, -78.0, -77.0, -64.0, -78.0, -99.0, -73.0, -114.0, -89.0, -97.0, -82.0, -86.0, -73.0, -78.0, -86.0, -85.0, -76.0, -85.0, -65.0, -77.0, -80.0, -80.0, -72.0, -85.0, -78.0]\n",
      "The average reward for 30 attemps is: -81.56666666666666\n",
      "The standard deviation for 30 attemps is: 9.851170263250735\n"
     ]
    }
   ],
   "source": [
    "obj.testModel(steps=500, isSave=0, repeat_num = 30)"
   ]
  },
  {
   "cell_type": "code",
   "execution_count": 131,
   "metadata": {},
   "outputs": [
    {
     "name": "stdout",
     "output_type": "stream",
     "text": [
      "Echo 1 completed, avg_reward -433.440000\n",
      "Echo 10 completed, avg_reward -91.040000\n",
      "Echo 20 completed, avg_reward -84.320000\n",
      "Echo 30 completed, avg_reward -83.640000\n",
      "Echo 40 completed, avg_reward -84.250000\n",
      "Echo 50 completed, avg_reward -82.450000\n"
     ]
    },
    {
     "data": {
      "image/png": "[encoded data removed]",
      "text/plain": [
       "<Figure size 432x288 with 1 Axes>"
      ]
     },
     "metadata": {
      "needs_background": "light"
     },
     "output_type": "display_data"
    }
   ],
   "source": [
    "obj.trainModel('antithetic', 'gaussian_orthogonal_matrices_sampling',step_size=500)"
   ]
  },
  {
   "cell_type": "code",
   "execution_count": 132,
   "metadata": {
    "scrolled": true
   },
   "outputs": [
    {
     "name": "stdout",
     "output_type": "stream",
     "text": [
      "Finish in 71 steps\n",
      "Finish in 72 steps\n",
      "Finish in 77 steps\n",
      "Finish in 69 steps\n",
      "Finish in 80 steps\n",
      "Finish in 77 steps\n",
      "Finish in 79 steps\n",
      "Finish in 92 steps\n",
      "Finish in 113 steps\n",
      "Finish in 78 steps\n",
      "Finish in 71 steps\n",
      "Finish in 80 steps\n",
      "Finish in 97 steps\n",
      "Finish in 70 steps\n",
      "Finish in 83 steps\n",
      "Finish in 263 steps\n",
      "Finish in 79 steps\n",
      "Finish in 286 steps\n",
      "Finish in 108 steps\n",
      "Finish in 113 steps\n",
      "Finish in 69 steps\n",
      "Finish in 75 steps\n",
      "Finish in 63 steps\n",
      "Finish in 77 steps\n",
      "Finish in 71 steps\n",
      "Finish in 85 steps\n",
      "Finish in 77 steps\n",
      "Finish in 76 steps\n",
      "Finish in 200 steps\n",
      "Finish in 89 steps\n",
      "The rewards for 30 attemps is: [-71.0, -72.0, -77.0, -69.0, -80.0, -77.0, -79.0, -92.0, -113.0, -78.0, -71.0, -80.0, -97.0, -70.0, -83.0, -263.0, -79.0, -286.0, -108.0, -113.0, -69.0, -75.0, -63.0, -77.0, -71.0, -85.0, -77.0, -76.0, -200.0, -89.0]\n",
      "The average reward for 30 attemps is: -98.0\n",
      "The standard deviation for 30 attemps is: 53.27163097434381\n"
     ]
    }
   ],
   "source": [
    "obj.testModel(steps=500, isSave=0, repeat_num = 30)"
   ]
  },
  {
   "cell_type": "code",
   "execution_count": 133,
   "metadata": {},
   "outputs": [
    {
     "name": "stdout",
     "output_type": "stream",
     "text": [
      "Echo 1 completed, avg_reward -494.375000\n",
      "Echo 10 completed, avg_reward -89.000000\n",
      "Echo 20 completed, avg_reward -87.156250\n",
      "Echo 30 completed, avg_reward -78.312500\n",
      "Echo 40 completed, avg_reward -80.921875\n",
      "Echo 50 completed, avg_reward -80.281250\n"
     ]
    },
    {
     "data": {
      "image/png": "[encoded data removed]",
      "text/plain": [
       "<Figure size 432x288 with 1 Axes>"
      ]
     },
     "metadata": {
      "needs_background": "light"
     },
     "output_type": "display_data"
    }
   ],
   "source": [
    "obj.trainModel('antithetic', 'random_Hadamard_matrices_sampling',step_size=500)"
   ]
  },
  {
   "cell_type": "code",
   "execution_count": 134,
   "metadata": {
    "scrolled": true
   },
   "outputs": [
    {
     "name": "stdout",
     "output_type": "stream",
     "text": [
      "Finish in 90 steps\n",
      "Finish in 74 steps\n",
      "Finish in 223 steps\n",
      "Finish in 74 steps\n",
      "Finish in 194 steps\n",
      "Finish in 74 steps\n",
      "Finish in 83 steps\n",
      "Finish in 227 steps\n",
      "Finish in 98 steps\n",
      "Finish in 73 steps\n",
      "Finish in 82 steps\n",
      "Finish in 88 steps\n",
      "Finish in 74 steps\n",
      "Finish in 73 steps\n",
      "Finish in 90 steps\n",
      "Finish in 84 steps\n",
      "Finish in 66 steps\n",
      "Finish in 73 steps\n",
      "Finish in 73 steps\n",
      "Finish in 73 steps\n",
      "Finish in 73 steps\n",
      "Finish in 73 steps\n",
      "Finish in 89 steps\n",
      "Finish in 73 steps\n",
      "Finish in 74 steps\n",
      "Finish in 74 steps\n",
      "Finish in 90 steps\n",
      "Finish in 65 steps\n",
      "Finish in 96 steps\n",
      "Finish in 64 steps\n",
      "The rewards for 30 attemps is: [-90.0, -74.0, -223.0, -74.0, -194.0, -74.0, -83.0, -227.0, -98.0, -73.0, -82.0, -88.0, -74.0, -73.0, -90.0, -84.0, -66.0, -73.0, -73.0, -73.0, -73.0, -73.0, -89.0, -73.0, -74.0, -74.0, -90.0, -65.0, -96.0, -64.0]\n",
      "The average reward for 30 attemps is: -91.9\n",
      "The standard deviation for 30 attemps is: 42.089072215956485\n"
     ]
    }
   ],
   "source": [
    "obj.testModel(steps=500, isSave=0, repeat_num = 30)"
   ]
  },
  {
   "cell_type": "code",
   "execution_count": 140,
   "metadata": {},
   "outputs": [
    {
     "name": "stdout",
     "output_type": "stream",
     "text": [
      "Echo 1 completed, avg_reward -468.020000\n",
      "Echo 10 completed, avg_reward -157.100000\n",
      "Echo 20 completed, avg_reward -82.890000\n",
      "Echo 30 completed, avg_reward -81.040000\n",
      "Echo 40 completed, avg_reward -87.900000\n",
      "Echo 50 completed, avg_reward -84.670000\n"
     ]
    },
    {
     "data": {
      "image/png": "[encoded data removed]",
      "text/plain": [
       "<Figure size 432x288 with 1 Axes>"
      ]
     },
     "metadata": {
      "needs_background": "light"
     },
     "output_type": "display_data"
    }
   ],
   "source": [
    "obj.trainModel('antithetic', 'givens_random_rotation_new', step_size=500)"
   ]
  },
  {
   "cell_type": "code",
   "execution_count": 141,
   "metadata": {
    "scrolled": true
   },
   "outputs": [
    {
     "name": "stdout",
     "output_type": "stream",
     "text": [
      "Finish in 80 steps\n",
      "Finish in 91 steps\n",
      "Finish in 81 steps\n",
      "Finish in 79 steps\n",
      "Finish in 78 steps\n",
      "Finish in 71 steps\n",
      "Finish in 73 steps\n",
      "Finish in 73 steps\n",
      "Finish in 82 steps\n",
      "Finish in 81 steps\n",
      "Finish in 79 steps\n",
      "Finish in 78 steps\n",
      "Finish in 87 steps\n",
      "Finish in 81 steps\n",
      "Finish in 77 steps\n",
      "Finish in 72 steps\n",
      "Finish in 108 steps\n",
      "Finish in 82 steps\n",
      "Finish in 82 steps\n",
      "Finish in 64 steps\n",
      "Finish in 85 steps\n",
      "Finish in 93 steps\n",
      "Finish in 76 steps\n",
      "Finish in 136 steps\n",
      "Finish in 77 steps\n",
      "Finish in 87 steps\n",
      "Finish in 85 steps\n",
      "Finish in 91 steps\n",
      "Finish in 91 steps\n",
      "Finish in 102 steps\n",
      "The rewards for 30 attemps is: [-80.0, -91.0, -81.0, -79.0, -78.0, -71.0, -73.0, -73.0, -82.0, -81.0, -79.0, -78.0, -87.0, -81.0, -77.0, -72.0, -108.0, -82.0, -82.0, -64.0, -85.0, -93.0, -76.0, -136.0, -77.0, -87.0, -85.0, -91.0, -91.0, -102.0]\n",
      "The average reward for 30 attemps is: -84.06666666666666\n",
      "The standard deviation for 30 attemps is: 13.096903790166929\n"
     ]
    }
   ],
   "source": [
    "obj.testModel(steps=500, isSave=0, repeat_num = 30)"
   ]
  },
  {
   "cell_type": "code",
   "execution_count": null,
   "metadata": {},
   "outputs": [],
   "source": []
  },
  {
   "cell_type": "code",
   "execution_count": null,
   "metadata": {},
   "outputs": [],
   "source": []
  },
  {
   "cell_type": "code",
   "execution_count": null,
   "metadata": {},
   "outputs": [],
   "source": []
  },
  {
   "cell_type": "code",
   "execution_count": null,
   "metadata": {},
   "outputs": [],
   "source": []
  },
  {
   "cell_type": "code",
   "execution_count": null,
   "metadata": {},
   "outputs": [],
   "source": []
  },
  {
   "cell_type": "code",
   "execution_count": null,
   "metadata": {},
   "outputs": [],
   "source": []
  },
  {
   "cell_type": "code",
   "execution_count": null,
   "metadata": {},
   "outputs": [],
   "source": []
  },
  {
   "cell_type": "code",
   "execution_count": null,
   "metadata": {},
   "outputs": [],
   "source": []
  },
  {
   "cell_type": "code",
   "execution_count": null,
   "metadata": {},
   "outputs": [],
   "source": []
  },
  {
   "cell_type": "code",
   "execution_count": null,
   "metadata": {},
   "outputs": [],
   "source": []
  },
  {
   "cell_type": "code",
   "execution_count": null,
   "metadata": {},
   "outputs": [],
   "source": []
  },
  {
   "cell_type": "code",
   "execution_count": null,
   "metadata": {},
   "outputs": [],
   "source": []
  },
  {
   "cell_type": "code",
   "execution_count": null,
   "metadata": {},
   "outputs": [],
   "source": []
  },
  {
   "cell_type": "code",
   "execution_count": null,
   "metadata": {},
   "outputs": [],
   "source": []
  },
  {
   "cell_type": "code",
   "execution_count": null,
   "metadata": {},
   "outputs": [],
   "source": []
  }
 ],
 "metadata": {
  "kernelspec": {
   "display_name": "Python 3",
   "language": "python",
   "name": "python3"
  },
  "language_info": {
   "codemirror_mode": {
    "name": "ipython",
    "version": 3
   },
   "file_extension": ".py",
   "mimetype": "text/x-python",
   "name": "python",
   "nbconvert_exporter": "python",
   "pygments_lexer": "ipython3",
   "version": "3.7.3"
  }
 },
 "nbformat": 4,
 "nbformat_minor": 4
}
